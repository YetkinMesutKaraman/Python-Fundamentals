{
 "cells": [
  {
   "cell_type": "code",
   "execution_count": 1,
   "metadata": {
    "collapsed": true
   },
   "outputs": [],
   "source": [
    "import numpy as np\n",
    "import string"
   ]
  },
  {
   "cell_type": "code",
   "execution_count": 2,
   "metadata": {
    "collapsed": true
   },
   "outputs": [],
   "source": [
    "alphabet = string.ascii_letters"
   ]
  },
  {
   "cell_type": "code",
   "execution_count": 3,
   "metadata": {
    "scrolled": true
   },
   "outputs": [
    {
     "data": {
      "text/plain": [
       "{'J': 1,\n",
       " 'a': 4,\n",
       " 'b': 1,\n",
       " 'c': 1,\n",
       " 'd': 1,\n",
       " 'e': 8,\n",
       " 'f': 1,\n",
       " 'g': 1,\n",
       " 'h': 2,\n",
       " 'i': 5,\n",
       " 'k': 1,\n",
       " 'l': 3,\n",
       " 'm': 1,\n",
       " 'n': 2,\n",
       " 'o': 1,\n",
       " 'p': 1,\n",
       " 'q': 1,\n",
       " 'r': 2,\n",
       " 's': 2,\n",
       " 't': 4,\n",
       " 'u': 3,\n",
       " 'v': 1,\n",
       " 'w': 1,\n",
       " 'x': 1,\n",
       " 'y': 1,\n",
       " 'z': 1}"
      ]
     },
     "execution_count": 3,
     "metadata": {},
     "output_type": "execute_result"
    }
   ],
   "source": [
    "sentence = 'Jim quickly realized that the beautiful gowns are expensive'\n",
    "\n",
    "count_letters = {}\n",
    "for letter in sentence:\n",
    "    if letter in alphabet:\n",
    "        #Known letter case\n",
    "        if letter in count_letters:\n",
    "            count_letters[letter] += 1\n",
    "        #Unknown letter case\n",
    "        else:\n",
    "            count_letters[letter] = 1\n",
    "count_letters"
   ]
  },
  {
   "cell_type": "code",
   "execution_count": 4,
   "metadata": {
    "collapsed": true
   },
   "outputs": [],
   "source": [
    "# Turn it into a function\n",
    "def counter(string_input):\n",
    "    count_letters = {}\n",
    "    for letter in string_input:\n",
    "        if letter in alphabet:\n",
    "            if letter in count_letters:\n",
    "                count_letters[letter] = count_letters[letter] + 1\n",
    "                #count_letters[letter] += 1 # shorter version\n",
    "            else:\n",
    "                count_letters[letter] = 1\n",
    "    return count_letters"
   ]
  },
  {
   "cell_type": "code",
   "execution_count": 5,
   "metadata": {
    "scrolled": true
   },
   "outputs": [
    {
     "data": {
      "text/plain": [
       "{'J': 1,\n",
       " 'a': 4,\n",
       " 'b': 1,\n",
       " 'c': 1,\n",
       " 'd': 1,\n",
       " 'e': 8,\n",
       " 'f': 1,\n",
       " 'g': 1,\n",
       " 'h': 2,\n",
       " 'i': 5,\n",
       " 'k': 1,\n",
       " 'l': 3,\n",
       " 'm': 1,\n",
       " 'n': 2,\n",
       " 'o': 1,\n",
       " 'p': 1,\n",
       " 'q': 1,\n",
       " 'r': 2,\n",
       " 's': 2,\n",
       " 't': 4,\n",
       " 'u': 3,\n",
       " 'v': 1,\n",
       " 'w': 1,\n",
       " 'x': 1,\n",
       " 'y': 1,\n",
       " 'z': 1}"
      ]
     },
     "execution_count": 5,
     "metadata": {},
     "output_type": "execute_result"
    }
   ],
   "source": [
    "counter(sentence)"
   ]
  },
  {
   "cell_type": "code",
   "execution_count": 6,
   "metadata": {},
   "outputs": [
    {
     "data": {
      "text/plain": [
       "{'M': 1, 'a': 6, 'e': 1, 'l': 1, 'm': 3, 'n': 2, 's': 3, 't': 1, 'u': 1}"
      ]
     },
     "execution_count": 6,
     "metadata": {},
     "output_type": "execute_result"
    }
   ],
   "source": [
    "# Finding the most frequent letter in a text\n",
    "S = \"Mesut amasına mama alsın\"\n",
    "dict_S = counter(S)\n",
    "dict_S"
   ]
  },
  {
   "cell_type": "code",
   "execution_count": 7,
   "metadata": {},
   "outputs": [
    {
     "data": {
      "text/plain": [
       "dict_keys(['M', 'e', 's', 'u', 't', 'a', 'm', 'n', 'l'])"
      ]
     },
     "execution_count": 7,
     "metadata": {},
     "output_type": "execute_result"
    }
   ],
   "source": [
    "dict_S.keys()"
   ]
  },
  {
   "cell_type": "code",
   "execution_count": 8,
   "metadata": {},
   "outputs": [
    {
     "data": {
      "text/plain": [
       "[1, 1, 3, 1, 1, 6, 3, 2, 1]"
      ]
     },
     "execution_count": 8,
     "metadata": {},
     "output_type": "execute_result"
    }
   ],
   "source": [
    "list(dict_S.values())"
   ]
  },
  {
   "cell_type": "code",
   "execution_count": 9,
   "metadata": {
    "collapsed": true
   },
   "outputs": [],
   "source": [
    "values_list = list(dict_S.values())\n",
    "keys_list = list(dict_S.keys())"
   ]
  },
  {
   "cell_type": "code",
   "execution_count": 10,
   "metadata": {},
   "outputs": [
    {
     "data": {
      "text/plain": [
       "6"
      ]
     },
     "execution_count": 10,
     "metadata": {},
     "output_type": "execute_result"
    }
   ],
   "source": [
    "max(values_list)"
   ]
  },
  {
   "cell_type": "code",
   "execution_count": 11,
   "metadata": {},
   "outputs": [
    {
     "data": {
      "text/plain": [
       "5"
      ]
     },
     "execution_count": 11,
     "metadata": {},
     "output_type": "execute_result"
    }
   ],
   "source": [
    "values_list.index(max(values_list))"
   ]
  },
  {
   "cell_type": "code",
   "execution_count": 12,
   "metadata": {},
   "outputs": [
    {
     "data": {
      "text/plain": [
       "'a'"
      ]
     },
     "execution_count": 12,
     "metadata": {},
     "output_type": "execute_result"
    }
   ],
   "source": [
    "keys_list[values_list.index(max(values_list))]"
   ]
  },
  {
   "cell_type": "code",
   "execution_count": 13,
   "metadata": {
    "collapsed": true
   },
   "outputs": [],
   "source": [
    "# Turn it into a function, Yes Baby!\n",
    "def frequentist_letter(input_dict):\n",
    "    \"\"\"For a given dictionary, it finds the key which has the maximum value.\"\"\"\n",
    "    #Extracting the values and keys\n",
    "    values_list = list(input_dict.values())\n",
    "    keys_list = list(input_dict.keys())\n",
    "    #finding the \n",
    "    max_idx = values_list.index(max(values_list))\n",
    "    most_frequent_letter = keys_list[max_idx]\n",
    "    return most_frequent_letter\n",
    "#Actually, it finds the key which has the max value!"
   ]
  },
  {
   "cell_type": "code",
   "execution_count": 14,
   "metadata": {},
   "outputs": [
    {
     "data": {
      "text/plain": [
       "'a'"
      ]
     },
     "execution_count": 14,
     "metadata": {},
     "output_type": "execute_result"
    }
   ],
   "source": [
    "frequentist_letter(dict_S)"
   ]
  },
  {
   "cell_type": "code",
   "execution_count": 15,
   "metadata": {},
   "outputs": [
    {
     "data": {
      "text/plain": [
       "1"
      ]
     },
     "execution_count": 15,
     "metadata": {},
     "output_type": "execute_result"
    }
   ],
   "source": [
    "# Some functions for strings\n",
    "dict_S.items()\n",
    "\n",
    "S.upper()\n",
    "\n",
    "S.count(\"mama\")"
   ]
  },
  {
   "cell_type": "code",
   "execution_count": 16,
   "metadata": {
    "collapsed": true
   },
   "outputs": [],
   "source": [
    "#Integrating frequentist_letter() function with counter() function:\n",
    "def freq_letter(input_string):\n",
    "    \"\"\"For a given string, first it transforms it into a dictionary,\n",
    "    second finds the most frequentist letter in that given string.\"\"\"\n",
    "    #Transforming the string into a dict\n",
    "    input_dict = counter(input_string)\n",
    "    \n",
    "    #Extracting the values and keys\n",
    "    values_list = list(input_dict.values())\n",
    "    keys_list = list(input_dict.keys())\n",
    "    \n",
    "    #finding the \n",
    "    max_idx = values_list.index(max(values_list))\n",
    "    most_frequent_letter = keys_list[max_idx]\n",
    "    return most_frequent_letter"
   ]
  },
  {
   "cell_type": "code",
   "execution_count": 17,
   "metadata": {},
   "outputs": [
    {
     "data": {
      "text/plain": [
       "'a'"
      ]
     },
     "execution_count": 17,
     "metadata": {},
     "output_type": "execute_result"
    }
   ],
   "source": [
    "freq_letter(S)"
   ]
  },
  {
   "cell_type": "code",
   "execution_count": 18,
   "metadata": {
    "collapsed": true
   },
   "outputs": [],
   "source": [
    "# Big version of above function(Nested),(Does have any meaning? I don't know.):\n",
    "def freqbig_letter(input_string):\n",
    "    \n",
    "    def counter(input_string):\n",
    "        count_letters = {}\n",
    "        for letter in input_string:\n",
    "            if letter in alphabet:\n",
    "                if letter in count_letters:\n",
    "                    count_letters[letter] = count_letters[letter] + 1\n",
    "                    #count_letters[letter] += 1 # shorter version\n",
    "                else:\n",
    "                    count_letters[letter] = 1\n",
    "        return count_letters\n",
    "    \n",
    "    input_dict = counter(input_string)\n",
    "    \n",
    "    def frequentist_letter(input_dict):\n",
    "        \"\"\"For a given string, it finds the most frequent letter in this input string.\"\"\"\n",
    "        #Extracting the values and keys\n",
    "        values_list = list(input_dict.values())\n",
    "        keys_list = list(input_dict.keys())\n",
    "        #finding the \n",
    "        max_idx = values_list.index(max(values_list))\n",
    "        most_frequent_letter = keys_list[max_idx]\n",
    "        return most_frequent_letter\n",
    "    \n",
    "    most_frequent_letter = frequentist_letter(input_dict)\n",
    "    return most_frequent_letter"
   ]
  },
  {
   "cell_type": "code",
   "execution_count": 19,
   "metadata": {},
   "outputs": [
    {
     "data": {
      "text/plain": [
       "'a'"
      ]
     },
     "execution_count": 19,
     "metadata": {},
     "output_type": "execute_result"
    }
   ],
   "source": [
    "freqbig_letter(S)"
   ]
  },
  {
   "cell_type": "code",
   "execution_count": 61,
   "metadata": {
    "collapsed": true
   },
   "outputs": [],
   "source": [
    "#Normal implementation:\n",
    "def Normalfreq_letter(input_string):\n",
    "    count_letters = {}\n",
    "    for letter in input_string:\n",
    "        if letter in alphabet:\n",
    "            if letter in count_letters:\n",
    "                count_letters[letter] = count_letters[letter] + 1\n",
    "                    #count_letters[letter] += 1 # shorter version\n",
    "            else:\n",
    "                count_letters[letter] = 1\n",
    "    #Extracting the values and keys\n",
    "    values_list = list(count_letters.values())\n",
    "    keys_list = list(count_letters.keys())\n",
    "    #finding the \n",
    "    max_idx = values_list.index(max(values_list))\n",
    "    most_frequent_letter = keys_list[max_idx]\n",
    "    return most_frequent_letter"
   ]
  },
  {
   "cell_type": "code",
   "execution_count": 62,
   "metadata": {},
   "outputs": [
    {
     "data": {
      "text/plain": [
       "'a'"
      ]
     },
     "execution_count": 62,
     "metadata": {},
     "output_type": "execute_result"
    }
   ],
   "source": [
    "Normalfreq_letter(S)"
   ]
  },
  {
   "cell_type": "code",
   "execution_count": 63,
   "metadata": {
    "collapsed": true
   },
   "outputs": [],
   "source": [
    "import time"
   ]
  },
  {
   "cell_type": "code",
   "execution_count": 64,
   "metadata": {},
   "outputs": [
    {
     "name": "stdout",
     "output_type": "stream",
     "text": [
      "0.0001721944699966116\n"
     ]
    }
   ],
   "source": [
    "start_time = time.clock()\n",
    "Normalfreq_letter(S)\n",
    "end_time = time.clock()\n",
    "print (end_time-start_time)"
   ]
  },
  {
   "cell_type": "markdown",
   "metadata": {},
   "source": [
    "# Alternative Solution(s)"
   ]
  },
  {
   "cell_type": "code",
   "execution_count": 65,
   "metadata": {},
   "outputs": [
    {
     "data": {
      "text/plain": [
       "3"
      ]
     },
     "execution_count": 65,
     "metadata": {},
     "output_type": "execute_result"
    }
   ],
   "source": [
    "S.count(\"m\")"
   ]
  },
  {
   "cell_type": "code",
   "execution_count": 66,
   "metadata": {},
   "outputs": [
    {
     "data": {
      "text/plain": [
       "'mesut amasına mama alsın'"
      ]
     },
     "execution_count": 66,
     "metadata": {},
     "output_type": "execute_result"
    }
   ],
   "source": [
    "S.lower()"
   ]
  },
  {
   "cell_type": "code",
   "execution_count": 67,
   "metadata": {},
   "outputs": [
    {
     "data": {
      "text/plain": [
       "'t'"
      ]
     },
     "execution_count": 67,
     "metadata": {},
     "output_type": "execute_result"
    }
   ],
   "source": [
    "S[4]"
   ]
  },
  {
   "cell_type": "code",
   "execution_count": 68,
   "metadata": {},
   "outputs": [
    {
     "data": {
      "text/plain": [
       "24"
      ]
     },
     "execution_count": 68,
     "metadata": {},
     "output_type": "execute_result"
    }
   ],
   "source": [
    "count_list = []\n",
    "for stritem in S:\n",
    "    count_list.append(S.count(stritem))\n",
    "len(count_list)"
   ]
  },
  {
   "cell_type": "code",
   "execution_count": 69,
   "metadata": {},
   "outputs": [
    {
     "data": {
      "text/plain": [
       "24"
      ]
     },
     "execution_count": 69,
     "metadata": {},
     "output_type": "execute_result"
    }
   ],
   "source": [
    "S_list = [item for item in S]\n",
    "len(S_list)"
   ]
  },
  {
   "cell_type": "code",
   "execution_count": 70,
   "metadata": {},
   "outputs": [
    {
     "data": {
      "text/plain": [
       "['s', 't', 'a', 'ı', ' ', 'M', 'l', 'e', 'n', 'm', 'u']"
      ]
     },
     "execution_count": 70,
     "metadata": {},
     "output_type": "execute_result"
    }
   ],
   "source": [
    "S_unique = list(set(S_list))\n",
    "S_unique"
   ]
  },
  {
   "cell_type": "code",
   "execution_count": 71,
   "metadata": {},
   "outputs": [
    {
     "data": {
      "text/plain": [
       "[3, 1, 6, 2, 3, 1, 1, 1, 2, 3, 1]"
      ]
     },
     "execution_count": 71,
     "metadata": {},
     "output_type": "execute_result"
    }
   ],
   "source": [
    "count_list2 = []\n",
    "for stritem in S_unique:\n",
    "    count_list2.append(S.count(stritem))\n",
    "count_list2"
   ]
  },
  {
   "cell_type": "code",
   "execution_count": 72,
   "metadata": {},
   "outputs": [
    {
     "data": {
      "text/plain": [
       "2"
      ]
     },
     "execution_count": 72,
     "metadata": {},
     "output_type": "execute_result"
    }
   ],
   "source": [
    "idx_max = count_list2.index(max(count_list2))\n",
    "idx_max"
   ]
  },
  {
   "cell_type": "code",
   "execution_count": 73,
   "metadata": {},
   "outputs": [
    {
     "data": {
      "text/plain": [
       "'a'"
      ]
     },
     "execution_count": 73,
     "metadata": {},
     "output_type": "execute_result"
    }
   ],
   "source": [
    "S_unique[idx_max]"
   ]
  },
  {
   "cell_type": "code",
   "execution_count": 74,
   "metadata": {},
   "outputs": [
    {
     "ename": "TypeError",
     "evalue": "'set' object does not support indexing",
     "output_type": "error",
     "traceback": [
      "\u001b[1;31m---------------------------------------------------------------------------\u001b[0m",
      "\u001b[1;31mTypeError\u001b[0m                                 Traceback (most recent call last)",
      "\u001b[1;32m<ipython-input-74-5d4168f5b603>\u001b[0m in \u001b[0;36m<module>\u001b[1;34m()\u001b[0m\n\u001b[0;32m      1\u001b[0m \u001b[0mset_S\u001b[0m \u001b[1;33m=\u001b[0m \u001b[0mset\u001b[0m\u001b[1;33m(\u001b[0m\u001b[0mS_list\u001b[0m\u001b[1;33m)\u001b[0m\u001b[1;33m\u001b[0m\u001b[0m\n\u001b[1;32m----> 2\u001b[1;33m \u001b[0mset_S\u001b[0m\u001b[1;33m[\u001b[0m\u001b[1;36m3\u001b[0m\u001b[1;33m]\u001b[0m\u001b[1;33m\u001b[0m\u001b[0m\n\u001b[0m",
      "\u001b[1;31mTypeError\u001b[0m: 'set' object does not support indexing"
     ]
    }
   ],
   "source": [
    "set_S = set(S_list)\n",
    "set_S[3]"
   ]
  },
  {
   "cell_type": "code",
   "execution_count": 81,
   "metadata": {
    "collapsed": true
   },
   "outputs": [],
   "source": [
    "#Turn it into a function, hola hola hoLLA!\n",
    "def freq_object_finder(input_string):\n",
    "    unique_list = list(set(input_string))\n",
    "    count_list = []\n",
    "    for item in unique_list:\n",
    "        count_list.append(input_string.count(item))\n",
    "    idx_max = count_list.index(max(count_list))\n",
    "    most_freq_object = unique_list[idx_max]\n",
    "    return most_freq_object"
   ]
  },
  {
   "cell_type": "code",
   "execution_count": 82,
   "metadata": {},
   "outputs": [
    {
     "data": {
      "text/plain": [
       "'a'"
      ]
     },
     "execution_count": 82,
     "metadata": {},
     "output_type": "execute_result"
    }
   ],
   "source": [
    "freq_object_finder(S)"
   ]
  },
  {
   "cell_type": "code",
   "execution_count": 83,
   "metadata": {},
   "outputs": [
    {
     "data": {
      "text/plain": [
       "' '"
      ]
     },
     "execution_count": 83,
     "metadata": {},
     "output_type": "execute_result"
    }
   ],
   "source": [
    "Y = \"                 \"\n",
    "freq_object_finder(Y)"
   ]
  },
  {
   "cell_type": "code",
   "execution_count": 84,
   "metadata": {},
   "outputs": [
    {
     "name": "stdout",
     "output_type": "stream",
     "text": [
      "0.00010434300702399923\n"
     ]
    }
   ],
   "source": [
    "start_time = time.clock()\n",
    "freq_object_finder(S)\n",
    "end_time = time.clock()\n",
    "print(end_time-start_time)"
   ]
  },
  {
   "cell_type": "code",
   "execution_count": 88,
   "metadata": {
    "collapsed": true
   },
   "outputs": [],
   "source": [
    "#Non-sensitive to upper-lower case(convert all the string into lower case)\n",
    "#But, remember the text can include number or other symbols(does not have to contain just letters!)\n",
    "def freq_object_finder2(input_string):\n",
    "    #convert all the string into lower case\n",
    "    input_string = input_string.lower()\n",
    "    unique_list = list(set(input_string))\n",
    "    count_list = []\n",
    "    for item in unique_list:\n",
    "        count_list.append(input_string.count(item))\n",
    "    idx_max = count_list.index(max(count_list))\n",
    "    most_freq_object = unique_list[idx_max]\n",
    "    return most_freq_object"
   ]
  },
  {
   "cell_type": "code",
   "execution_count": 89,
   "metadata": {},
   "outputs": [
    {
     "data": {
      "text/plain": [
       "'b'"
      ]
     },
     "execution_count": 89,
     "metadata": {},
     "output_type": "execute_result"
    }
   ],
   "source": [
    "freq_object_finder2(\"BBBBBBBBBBBBBBBBBGglgkjd\")"
   ]
  },
  {
   "cell_type": "code",
   "execution_count": 92,
   "metadata": {},
   "outputs": [
    {
     "data": {
      "text/plain": [
       "'B'"
      ]
     },
     "execution_count": 92,
     "metadata": {},
     "output_type": "execute_result"
    }
   ],
   "source": [
    "freq_object_finder(\"BBBBBBBBBBBBBBBBBGglgkjd\")"
   ]
  },
  {
   "cell_type": "code",
   "execution_count": 85,
   "metadata": {
    "collapsed": true
   },
   "outputs": [],
   "source": [
    "#Non-sensitive to upper-lower case(convert all the string into lower case):\n",
    "def most_freq_letter(input_string):\n",
    "    #convert all the string into lower case\n",
    "    input_string = input_string.lower()\n",
    "    count_letters = {}\n",
    "    for letter in input_string:\n",
    "        if letter in alphabet:\n",
    "            if letter in count_letters:\n",
    "                count_letters[letter] = count_letters[letter] + 1\n",
    "                    #count_letters[letter] += 1 # shorter version\n",
    "            else:\n",
    "                count_letters[letter] = 1\n",
    "    #Extracting the values and keys\n",
    "    values_list = list(count_letters.values())\n",
    "    keys_list = list(count_letters.keys())\n",
    "    #finding the \n",
    "    max_idx = values_list.index(max(values_list))\n",
    "    most_frequent_letter = keys_list[max_idx]\n",
    "    return most_frequent_letter"
   ]
  },
  {
   "cell_type": "code",
   "execution_count": 90,
   "metadata": {},
   "outputs": [
    {
     "data": {
      "text/plain": [
       "'a'"
      ]
     },
     "execution_count": 90,
     "metadata": {},
     "output_type": "execute_result"
    }
   ],
   "source": [
    "most_freq_letter(\"AAAAAAAAAAAAAAAxcva\")"
   ]
  },
  {
   "cell_type": "code",
   "execution_count": 91,
   "metadata": {},
   "outputs": [
    {
     "data": {
      "text/plain": [
       "'A'"
      ]
     },
     "execution_count": 91,
     "metadata": {},
     "output_type": "execute_result"
    }
   ],
   "source": [
    "Normalfreq_letter(\"AAAAAAAAAAAAAAAxcva\")"
   ]
  },
  {
   "cell_type": "markdown",
   "metadata": {},
   "source": [
    "## Python defined version"
   ]
  },
  {
   "cell_type": "code",
   "execution_count": 94,
   "metadata": {},
   "outputs": [
    {
     "data": {
      "text/plain": [
       "{'G': 1,\n",
       " 'a': 1,\n",
       " 'b': 1,\n",
       " 'c': 1,\n",
       " 'd': 1,\n",
       " 'e': 1,\n",
       " 'f': 1,\n",
       " 'g': 1,\n",
       " 'h': 1,\n",
       " 'i': 1,\n",
       " 'k': 1,\n",
       " 'l': 1,\n",
       " 'n': 1,\n",
       " 'o': 1,\n",
       " 'p': 1,\n",
       " 'q': 1,\n",
       " 'r': 1,\n",
       " 's': 1,\n",
       " 't': 1,\n",
       " 'u': 1,\n",
       " 'v': 1,\n",
       " 'w': 1,\n",
       " 'x': 1,\n",
       " 'y': 1,\n",
       " 'z': 1}"
      ]
     },
     "execution_count": 94,
     "metadata": {},
     "output_type": "execute_result"
    }
   ],
   "source": [
    "sentence1 = 'Gargi quickly realized that the beautiful gowns are expensive'\n",
    "\n",
    "count_letters11 = {}\n",
    "sentence_uniq = list(set(sentence1))\n",
    "for letter in sentence_uniq:\n",
    "    if letter in alphabet:\n",
    "        if letter in count_letters11:\n",
    "            count_letters11[letter] += 1\n",
    "        else:\n",
    "            count_letters11[letter] = 1\n",
    "count_letters11"
   ]
  },
  {
   "cell_type": "code",
   "execution_count": 97,
   "metadata": {
    "scrolled": true
   },
   "outputs": [
    {
     "data": {
      "text/plain": [
       "{' ': 8,\n",
       " 'G': 1,\n",
       " 'a': 5,\n",
       " 'b': 1,\n",
       " 'c': 1,\n",
       " 'd': 1,\n",
       " 'e': 8,\n",
       " 'f': 1,\n",
       " 'g': 2,\n",
       " 'h': 2,\n",
       " 'i': 5,\n",
       " 'k': 1,\n",
       " 'l': 3,\n",
       " 'n': 2,\n",
       " 'o': 1,\n",
       " 'p': 1,\n",
       " 'q': 1,\n",
       " 'r': 3,\n",
       " 's': 2,\n",
       " 't': 4,\n",
       " 'u': 3,\n",
       " 'v': 1,\n",
       " 'w': 1,\n",
       " 'x': 1,\n",
       " 'y': 1,\n",
       " 'z': 1}"
      ]
     },
     "execution_count": 97,
     "metadata": {},
     "output_type": "execute_result"
    }
   ],
   "source": [
    "sentence1 = 'Gargi quickly realized that the beautiful gowns are expensive'\n",
    "\n",
    "count_letters11 = {}\n",
    "sentence_uniq = list(set(sentence1))\n",
    "for letter in sentence_uniq:\n",
    "    count_letters11[letter] = sentence1.count(letter)\n",
    "count_letters11"
   ]
  },
  {
   "cell_type": "code",
   "execution_count": 101,
   "metadata": {
    "collapsed": true
   },
   "outputs": [],
   "source": [
    "def counter_strcount(input_string):\n",
    "    input_string = input_string.lower()\n",
    "    input_string_uniq = list(set(input_string))\n",
    "    count_letters = {}\n",
    "    for letter in input_string_uniq:\n",
    "        count_letters[letter] = input_string.count(letter)\n",
    "    return count_letters\n"
   ]
  },
  {
   "cell_type": "code",
   "execution_count": 102,
   "metadata": {
    "scrolled": true
   },
   "outputs": [
    {
     "data": {
      "text/plain": [
       "{' ': 8,\n",
       " 'a': 5,\n",
       " 'b': 1,\n",
       " 'c': 1,\n",
       " 'd': 1,\n",
       " 'e': 8,\n",
       " 'f': 1,\n",
       " 'g': 3,\n",
       " 'h': 2,\n",
       " 'i': 5,\n",
       " 'k': 1,\n",
       " 'l': 3,\n",
       " 'n': 2,\n",
       " 'o': 1,\n",
       " 'p': 1,\n",
       " 'q': 1,\n",
       " 'r': 3,\n",
       " 's': 2,\n",
       " 't': 4,\n",
       " 'u': 3,\n",
       " 'v': 1,\n",
       " 'w': 1,\n",
       " 'x': 1,\n",
       " 'y': 1,\n",
       " 'z': 1}"
      ]
     },
     "execution_count": 102,
     "metadata": {},
     "output_type": "execute_result"
    }
   ],
   "source": [
    "counter_strcount(sentence1)"
   ]
  },
  {
   "cell_type": "code",
   "execution_count": 103,
   "metadata": {
    "collapsed": true
   },
   "outputs": [],
   "source": [
    "def freq_letter_pythonic(input_string):\n",
    "    \"\"\"For a given string, first it transforms it into a dictionary,\n",
    "    second finds the most frequentist letter in that given string.\"\"\"\n",
    "    #Transforming the string into a dict\n",
    "    input_dict = counter_strcount(input_string)\n",
    "    \n",
    "    #Extracting the values and keys\n",
    "    values_list = list(input_dict.values())\n",
    "    keys_list = list(input_dict.keys())\n",
    "    \n",
    "    #finding the \n",
    "    max_idx = values_list.index(max(values_list))\n",
    "    most_frequent_letter = keys_list[max_idx]\n",
    "    return most_frequent_letter"
   ]
  },
  {
   "cell_type": "code",
   "execution_count": 104,
   "metadata": {},
   "outputs": [
    {
     "data": {
      "text/plain": [
       "'e'"
      ]
     },
     "execution_count": 104,
     "metadata": {},
     "output_type": "execute_result"
    }
   ],
   "source": [
    "freq_letter_pythonic(sentence1)"
   ]
  },
  {
   "cell_type": "code",
   "execution_count": 105,
   "metadata": {},
   "outputs": [
    {
     "data": {
      "text/plain": [
       "'e'"
      ]
     },
     "execution_count": 105,
     "metadata": {},
     "output_type": "execute_result"
    }
   ],
   "source": [
    "freq_letter(sentence1)"
   ]
  },
  {
   "cell_type": "markdown",
   "metadata": {},
   "source": [
    "# HOLA!"
   ]
  },
  {
   "cell_type": "code",
   "execution_count": null,
   "metadata": {
    "collapsed": true
   },
   "outputs": [],
   "source": []
  }
 ],
 "metadata": {
  "kernelspec": {
   "display_name": "Python 3",
   "language": "python",
   "name": "python3"
  },
  "language_info": {
   "codemirror_mode": {
    "name": "ipython",
    "version": 3
   },
   "file_extension": ".py",
   "mimetype": "text/x-python",
   "name": "python",
   "nbconvert_exporter": "python",
   "pygments_lexer": "ipython3",
   "version": "3.6.3"
  }
 },
 "nbformat": 4,
 "nbformat_minor": 2
}
