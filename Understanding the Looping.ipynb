{
 "cells": [
  {
   "cell_type": "code",
   "execution_count": 1,
   "metadata": {
    "collapsed": true
   },
   "outputs": [],
   "source": [
    "import numpy as np"
   ]
  },
  {
   "cell_type": "code",
   "execution_count": null,
   "metadata": {
    "collapsed": true
   },
   "outputs": [],
   "source": [
    "list_1 = [1,2,3,4,5,6,7,8,9]\n",
    "summation = 0\n",
    "for item in list_1:\n",
    "    summation = summation + item # summation += summation: shorter version\n",
    "summation "
   ]
  },
  {
   "cell_type": "code",
   "execution_count": null,
   "metadata": {
    "collapsed": true
   },
   "outputs": [],
   "source": [
    "# For the trajectory of summation via \"append\"\n",
    "summation_trajectory = []\n",
    "summation_2 = 0\n",
    "for item in list_1:\n",
    "    summation_2 = summation_2 + item\n",
    "    summation_trajectory.append(summation_2)\n",
    "summation_trajectory"
   ]
  },
  {
   "cell_type": "code",
   "execution_count": null,
   "metadata": {
    "collapsed": true
   },
   "outputs": [],
   "source": [
    "# For the trajectory of summation via \"numpy.zeros assigment and range\"\n",
    "summation_nump = np.zeros(9) # np.zeros(len(list_1)) better!\n",
    "summation_3 = 0\n",
    "for i in range(9):\n",
    "    summation_3 = summation_3 + list_1[i]\n",
    "    summation_nump[i] = summation_3\n",
    "summation_nump"
   ]
  },
  {
   "cell_type": "code",
   "execution_count": null,
   "metadata": {
    "collapsed": true
   },
   "outputs": [],
   "source": [
    "# For the trajectory of summation via \"list assignment and range\"\n",
    "summation_nump2 = [0] * len(list_1)\n",
    "summation_32 = 0\n",
    "for i in range(9):\n",
    "    summation_32 = summation_32 + list_1[i]\n",
    "    summation_nump2[i] = summation_32\n",
    "summation_nump2"
   ]
  },
  {
   "cell_type": "code",
   "execution_count": null,
   "metadata": {
    "collapsed": true
   },
   "outputs": [],
   "source": [
    "# For the trajectory of summation via \"enumerate\"\n",
    "summation_list = range(len(list_1))\n",
    "summation_4 = 0\n",
    "for i,item in enumerate(list_1):\n",
    "    summation_4 = summation_4 + list_1[i]\n",
    "    summation_list[i] = summation_4\n",
    "summation_list"
   ]
  },
  {
   "cell_type": "code",
   "execution_count": null,
   "metadata": {
    "collapsed": true
   },
   "outputs": [],
   "source": [
    "# For the trajectory of summation via \"enumerate\"\n",
    "summation_list = [0] * len(list_1)\n",
    "summation_4 = 0\n",
    "for i,item in enumerate(list_1):\n",
    "    summation_4 = summation_4 + list_1[i]\n",
    "    summation_list[i] = summation_4\n",
    "summation_list"
   ]
  },
  {
   "cell_type": "code",
   "execution_count": null,
   "metadata": {
    "collapsed": true
   },
   "outputs": [],
   "source": [
    "# For the trajectory of summation via \"enumerate\"\n",
    "summation_list2 = [0] * len(list_1)\n",
    "summation_5 = 0\n",
    "for i,item in enumerate(list_1):\n",
    "    summation_5 = summation_5 + item\n",
    "    summation_list2[i] = summation_5\n",
    "summation_list2"
   ]
  },
  {
   "cell_type": "markdown",
   "metadata": {},
   "source": [
    "> HOLA! Notice the difference Beri,beri, beriii.."
   ]
  },
  {
   "cell_type": "code",
   "execution_count": null,
   "metadata": {
    "collapsed": true
   },
   "outputs": [],
   "source": [
    "# Arithmetic mean of consecutive elements in a list via \"enumerate\"\n",
    "a = range(12)\n",
    "b = []\n",
    "for i, k in enumerate(a[1:]):\n",
    "    b.append((a[i] + a[i+1])/2) \n",
    "b\n"
   ]
  },
  {
   "cell_type": "code",
   "execution_count": null,
   "metadata": {
    "collapsed": true
   },
   "outputs": [],
   "source": [
    "# Arithmetic mean of consecutive elements in a list via \"numpy array assignment\"\n",
    "a1 = range(12)\n",
    "b1 = np.zeros(len(range(12))-1) # len(a)\n",
    "for i in range(len(b1)):\n",
    "    b1[i]=(a1[i]+a1[i+1])/2\n",
    "b1"
   ]
  },
  {
   "cell_type": "code",
   "execution_count": null,
   "metadata": {
    "collapsed": true
   },
   "outputs": [],
   "source": [
    "# Arithmetic mean of consecutive elements in a list via \"list assignment\"\n",
    "a2 = range(12)\n",
    "b2 = [0] * (len(range(12))-1) # len(a)\n",
    "for i in range(len(b2)):\n",
    "    b2[i]=(a2[i]+a2[i+1])/2\n",
    "b2"
   ]
  },
  {
   "cell_type": "code",
   "execution_count": null,
   "metadata": {
    "collapsed": true
   },
   "outputs": [],
   "source": [
    "# Arithmetic mean of consecutive elements in a list via \"list comprehension\"\n",
    "a3 = range(12)\n",
    "comp_list = [(a3[i] + a3[i+1])/2 for i in range(12)]\n",
    "comp_list"
   ]
  },
  {
   "cell_type": "code",
   "execution_count": null,
   "metadata": {
    "collapsed": true
   },
   "outputs": [],
   "source": [
    "# Arithmetic mean of consecutive elements in a list via \"list comprehension\"\n",
    "a3 = range(12)\n",
    "comp_list = [(a3[i] + a3[i+1])/2 for i in range(11)]\n",
    "comp_list"
   ]
  },
  {
   "cell_type": "code",
   "execution_count": null,
   "metadata": {
    "collapsed": true
   },
   "outputs": [],
   "source": [
    "# Arithmetic mean of consecutive elements in a list via \"list comprehension and enumerate(unnecessary)\"\n",
    "a3 = range(12)\n",
    "comp_list = [(a3[i] + a3[i+1])/2 for i, item in enumerate(a3[1:])]\n",
    "comp_list"
   ]
  },
  {
   "cell_type": "markdown",
   "metadata": {},
   "source": [
    "> Can we implement the summation trajectory via list comprehensions?"
   ]
  },
  {
   "cell_type": "markdown",
   "metadata": {},
   "source": [
    "## Training"
   ]
  },
  {
   "cell_type": "code",
   "execution_count": null,
   "metadata": {
    "collapsed": true
   },
   "outputs": [],
   "source": [
    "# Squaring of each element in a list via?\n",
    "numbers = [1,3,5,7,9]\n",
    "squares = []\n",
    "for number in numbers:\n",
    "    squares.append(number**2)\n",
    "squares"
   ]
  },
  {
   "cell_type": "code",
   "execution_count": null,
   "metadata": {
    "collapsed": true
   },
   "outputs": [],
   "source": [
    "# Squaring of each element in a list via?\n",
    "numbers = [1,3,5,7,9]\n",
    "squares = np.zeros(len(numbers))\n",
    "for p in range(len(numbers)):\n",
    "    squares[p] = numbers[p]**2\n",
    "squares"
   ]
  },
  {
   "cell_type": "code",
   "execution_count": null,
   "metadata": {
    "collapsed": true
   },
   "outputs": [],
   "source": [
    "# Squaring of each element in a list via?\n",
    "numbers = [1,3,5,7,9]\n",
    "squares = [0] * len(numbers)\n",
    "for z in range(len(numbers)):\n",
    "    squares[z] = numbers[z]**2\n",
    "squares"
   ]
  },
  {
   "cell_type": "code",
   "execution_count": null,
   "metadata": {
    "collapsed": true
   },
   "outputs": [],
   "source": [
    "# Squaring of each element in a list via?\n",
    "numbers = [1,6,16,26,36]\n",
    "squares = [0] * len(numbers)\n",
    "for i, number in enumerate(numbers):\n",
    "    squares[i] = number**2\n",
    "squares"
   ]
  },
  {
   "cell_type": "code",
   "execution_count": null,
   "metadata": {
    "collapsed": true
   },
   "outputs": [],
   "source": [
    "# Squaring of each element in a list via?\n",
    "numbers = [1,6,16,26,36]\n",
    "squares = [0] * len(numbers)\n",
    "for i, number in enumerate(numbers):\n",
    "    squares[i] = numbers[i]**2\n",
    "squares"
   ]
  },
  {
   "cell_type": "markdown",
   "metadata": {},
   "source": [
    "Let's Comprehense"
   ]
  },
  {
   "cell_type": "code",
   "execution_count": null,
   "metadata": {
    "collapsed": true
   },
   "outputs": [],
   "source": [
    "# Squaring of each element in a list via?\n",
    "numbers = [1,3,5,7,9]\n",
    "squares = [number**2 for number in numbers]\n",
    "squares"
   ]
  },
  {
   "cell_type": "markdown",
   "metadata": {},
   "source": [
    "<b> Structure of Comprehension\n",
    "<n>\n",
    "[ <font color=blue>(expression) <font color=green>for (item or index or dummy variable) <font color=green>in (ordered object) ]"
   ]
  },
  {
   "cell_type": "code",
   "execution_count": null,
   "metadata": {
    "collapsed": true,
    "scrolled": true
   },
   "outputs": [],
   "source": [
    "[c for c in \"Madiyim mi seni Beri\"]"
   ]
  },
  {
   "cell_type": "code",
   "execution_count": null,
   "metadata": {
    "collapsed": true
   },
   "outputs": [],
   "source": [
    "[ x+y for x,y in [(1,2), (2,-1), (4,2), (3,7)] ]"
   ]
  },
  {
   "cell_type": "code",
   "execution_count": null,
   "metadata": {
    "collapsed": true
   },
   "outputs": [],
   "source": [
    "# Function with a comprehension\n",
    "def summ(a,b):\n",
    "    return a+b\n",
    "\n",
    "[summ(x,y) for x,y in [(1,2), (2,-1), (4,2), (3,7)] ]"
   ]
  },
  {
   "cell_type": "code",
   "execution_count": null,
   "metadata": {
    "collapsed": true
   },
   "outputs": [],
   "source": [
    "# Function with a comprehension\n",
    "def square(x):\n",
    "    squares = [number**2 for number in x]\n",
    "    return squares\n",
    "square([1,2,3,4,5,6])"
   ]
  },
  {
   "cell_type": "markdown",
   "metadata": {},
   "source": [
    "### Let's add some condition(al)s"
   ]
  },
  {
   "cell_type": "code",
   "execution_count": null,
   "metadata": {
    "collapsed": true
   },
   "outputs": [],
   "source": [
    "numbers = [1,3,5,7,9,11]\n",
    "squares = []\n",
    "for number in numbers:\n",
    "    if number > 4:\n",
    "        squares.append(number**2)\n",
    "squares"
   ]
  },
  {
   "cell_type": "code",
   "execution_count": null,
   "metadata": {
    "collapsed": true
   },
   "outputs": [],
   "source": [
    "# With comprehension\n",
    "[x**2 for x in numbers if x > 4]"
   ]
  },
  {
   "cell_type": "code",
   "execution_count": null,
   "metadata": {
    "collapsed": true
   },
   "outputs": [],
   "source": [
    "# With comprehension\n",
    "[Beri**2 for Beri in numbers if Beri > 4]"
   ]
  },
  {
   "cell_type": "code",
   "execution_count": null,
   "metadata": {
    "collapsed": true
   },
   "outputs": [],
   "source": [
    "# If we want to apply another operation when the condition is violated:\n",
    "numbers = [2,5,7,9,13,15,17,21]\n",
    "[ lulu**3 if lulu > 10 else lulu for lulu in numbers]"
   ]
  },
  {
   "cell_type": "code",
   "execution_count": null,
   "metadata": {
    "collapsed": true
   },
   "outputs": [],
   "source": [
    "# For loop implementation of above code\n",
    "numbers = [2,5,7,9,13,15,17,21]\n",
    "listo = []\n",
    "for lulu in numbers:\n",
    "    if lulu > 10:\n",
    "        listo.append(lulu**3)\n",
    "    else:\n",
    "        listo.append(lulu)\n",
    "listo"
   ]
  },
  {
   "cell_type": "markdown",
   "metadata": {},
   "source": [
    "### Nested Loops"
   ]
  },
  {
   "cell_type": "code",
   "execution_count": null,
   "metadata": {
    "collapsed": true
   },
   "outputs": [],
   "source": [
    "# Nested Loops\n",
    "# Flattening the list of lists\n",
    "list_of_lists = [[1,2,3], [4,5,6], [7,8,9]]\n",
    "flatten_list = []\n",
    "for sublist in list_of_lists:\n",
    "    for element in sublist:\n",
    "        flatten_list.append(element)\n",
    "flatten_list"
   ]
  },
  {
   "cell_type": "code",
   "execution_count": null,
   "metadata": {
    "collapsed": true
   },
   "outputs": [],
   "source": [
    "list_of_lists"
   ]
  },
  {
   "cell_type": "code",
   "execution_count": null,
   "metadata": {
    "collapsed": true
   },
   "outputs": [],
   "source": [
    "# Comprehensed version\n",
    "flattened = [element for sublist in list_of_lists for element in sublist]\n",
    "flattened"
   ]
  },
  {
   "cell_type": "code",
   "execution_count": null,
   "metadata": {
    "collapsed": true
   },
   "outputs": [],
   "source": [
    "# or\n",
    "flatten = [x for y in list_of_lists for x in y]\n",
    "flatten"
   ]
  },
  {
   "cell_type": "code",
   "execution_count": null,
   "metadata": {
    "collapsed": true,
    "scrolled": true
   },
   "outputs": [],
   "source": [
    "# Pairing letter list's elements and number list's elements\n",
    "pair_list = []\n",
    "for letter in \"Ölücem\":\n",
    "    for number in [1,2,3,4,5]:\n",
    "        pair_list.append((letter,number))\n",
    "pair_list"
   ]
  },
  {
   "cell_type": "code",
   "execution_count": null,
   "metadata": {
    "collapsed": true
   },
   "outputs": [],
   "source": [
    "# If we want one to one pairing: We have \"zip\" for this purpose\n",
    "letters = \"TabiCanım\"\n",
    "numbers = [1,3,5,7,9,11,13,17,23]\n",
    "for letter, number in zip(letters, numbers):\n",
    "    print((letter, number))\n"
   ]
  },
  {
   "cell_type": "code",
   "execution_count": null,
   "metadata": {
    "collapsed": true
   },
   "outputs": [],
   "source": [
    "# Enumerate investigation\n",
    "letters = \"TabiCanım\"\n",
    "for i, letter in enumerate(letters):\n",
    "    print(i,letter)"
   ]
  },
  {
   "cell_type": "code",
   "execution_count": null,
   "metadata": {
    "collapsed": true
   },
   "outputs": [],
   "source": [
    "# Enumerate investigation\n",
    "letters = \"TabiCanım\"\n",
    "for i, letter in enumerate(letters):\n",
    "    print((i,letter))"
   ]
  },
  {
   "cell_type": "markdown",
   "metadata": {},
   "source": [
    "### Çerez Niyetine"
   ]
  },
  {
   "cell_type": "code",
   "execution_count": null,
   "metadata": {
    "collapsed": true
   },
   "outputs": [],
   "source": [
    "# Prime detector\n",
    "x = 97\n",
    "k = 0\n",
    "for i in range(2,x):\n",
    "    if x%i == 0:\n",
    "        k = k+1\n",
    "if k >=1:\n",
    "    print(\"%d is not prime\" % x)\n",
    "else:\n",
    "    print(\"%d is a prime number!\" % x)\n"
   ]
  },
  {
   "cell_type": "code",
   "execution_count": null,
   "metadata": {
    "collapsed": true
   },
   "outputs": [],
   "source": [
    "x=17 \n",
    "not np.any([x%i == 0 for i in range(2, x)])"
   ]
  },
  {
   "cell_type": "code",
   "execution_count": null,
   "metadata": {
    "collapsed": true
   },
   "outputs": [],
   "source": [
    "x=18 \n",
    "not np.any([x%i == 0 for i in range(2, x)])"
   ]
  },
  {
   "cell_type": "markdown",
   "metadata": {},
   "source": [
    "### ii-) Another approach"
   ]
  },
  {
   "cell_type": "code",
   "execution_count": 91,
   "metadata": {},
   "outputs": [
    {
     "name": "stdout",
     "output_type": "stream",
     "text": [
      "False\n"
     ]
    }
   ],
   "source": [
    "n = 24\n",
    "is_prime = True\n",
    "for i in range(2,n):\n",
    "    if n%i == 0:\n",
    "        is_prime = False\n",
    "print(is_prime)"
   ]
  },
  {
   "cell_type": "code",
   "execution_count": 97,
   "metadata": {
    "scrolled": true
   },
   "outputs": [
    {
     "data": {
      "text/plain": [
       "[True,\n",
       " True,\n",
       " True,\n",
       " False,\n",
       " True,\n",
       " False,\n",
       " True,\n",
       " False,\n",
       " False,\n",
       " False,\n",
       " True,\n",
       " False,\n",
       " False,\n",
       " False,\n",
       " False,\n",
       " False,\n",
       " False,\n",
       " False,\n",
       " False,\n",
       " False,\n",
       " False,\n",
       " False]"
      ]
     },
     "execution_count": 97,
     "metadata": {},
     "output_type": "execute_result"
    }
   ],
   "source": [
    "# What about comprehensed version?\n",
    "[n%i == 0 for i in range(2,n)] # brick 1"
   ]
  },
  {
   "cell_type": "code",
   "execution_count": 98,
   "metadata": {},
   "outputs": [
    {
     "data": {
      "text/plain": [
       "True"
      ]
     },
     "execution_count": 98,
     "metadata": {},
     "output_type": "execute_result"
    }
   ],
   "source": [
    "np.any([n%i == 0 for i in range(2,n)]) # brick 2"
   ]
  },
  {
   "cell_type": "code",
   "execution_count": 99,
   "metadata": {},
   "outputs": [
    {
     "data": {
      "text/plain": [
       "False"
      ]
     },
     "execution_count": 99,
     "metadata": {},
     "output_type": "execute_result"
    }
   ],
   "source": [
    "not np.any([n%i == 0 for i in range(2,n)]) # birck 3(last)"
   ]
  },
  {
   "cell_type": "code",
   "execution_count": 101,
   "metadata": {},
   "outputs": [
    {
     "data": {
      "text/plain": [
       "False"
      ]
     },
     "execution_count": 101,
     "metadata": {},
     "output_type": "execute_result"
    }
   ],
   "source": [
    "not(np.any([n%i == 0 for i in range(2,n)])) # identical little girl/boy-boy/girl"
   ]
  },
  {
   "cell_type": "markdown",
   "metadata": {},
   "source": [
    "## Detecting the differences between two lists"
   ]
  },
  {
   "cell_type": "code",
   "execution_count": 3,
   "metadata": {},
   "outputs": [
    {
     "data": {
      "text/plain": [
       "[2, 5, 6, 7, 8]"
      ]
     },
     "execution_count": 3,
     "metadata": {},
     "output_type": "execute_result"
    }
   ],
   "source": [
    "mesut1 = [1,2,3,4,5,6,7,8,9]\n",
    "mesut2 = [1,2,4,4,5,5,6,6,7]\n",
    "index_list = []\n",
    "for x,y in zip(mesut1,mesut2):\n",
    "    if x!=y:\n",
    "        index_list.append(mesut1.index(x))\n",
    "index_list"
   ]
  },
  {
   "cell_type": "code",
   "execution_count": 4,
   "metadata": {},
   "outputs": [
    {
     "data": {
      "text/plain": [
       "9"
      ]
     },
     "execution_count": 4,
     "metadata": {},
     "output_type": "execute_result"
    }
   ],
   "source": [
    "len(mesut1)"
   ]
  },
  {
   "cell_type": "code",
   "execution_count": 5,
   "metadata": {},
   "outputs": [
    {
     "data": {
      "text/plain": [
       "[2, 5, 6, 7, 8]"
      ]
     },
     "execution_count": 5,
     "metadata": {},
     "output_type": "execute_result"
    }
   ],
   "source": [
    "[mesut1.index(x) for x,y in zip(mesut1,mesut2) if x!=y]"
   ]
  },
  {
   "cell_type": "code",
   "execution_count": null,
   "metadata": {
    "collapsed": true
   },
   "outputs": [],
   "source": [
    "len([mesut1.index(x) for x,y in zip(mesut1,mesut2) if x!=y])/len(mesut!) # percentage of differences"
   ]
  },
  {
   "cell_type": "markdown",
   "metadata": {
    "collapsed": true
   },
   "source": [
    "## Minimum Finder for a given list"
   ]
  },
  {
   "cell_type": "code",
   "execution_count": 2,
   "metadata": {},
   "outputs": [
    {
     "name": "stdout",
     "output_type": "stream",
     "text": [
      "11\n"
     ]
    }
   ],
   "source": [
    "a_list = [2,4,5,7, 11, 0,-1,-8]\n",
    "max_0 = a_list[0]\n",
    "for element in a_list:\n",
    "    if element > max_0:\n",
    "        max_0 = element\n",
    "    else:\n",
    "        max_0 = max_0\n",
    "print(max_0)"
   ]
  },
  {
   "cell_type": "code",
   "execution_count": 4,
   "metadata": {},
   "outputs": [
    {
     "data": {
      "text/plain": [
       "[2, 2, 2, 2]"
      ]
     },
     "execution_count": 4,
     "metadata": {},
     "output_type": "execute_result"
    }
   ],
   "source": [
    "# Can we implement this problem in comprehensed fashion?\n",
    "# Let's try\n",
    "max_0 = a_list[0]\n",
    "[max_0 for element in a_list if element > max_0]"
   ]
  },
  {
   "cell_type": "code",
   "execution_count": 8,
   "metadata": {
    "collapsed": true
   },
   "outputs": [],
   "source": [
    "#That is not what we want1"
   ]
  },
  {
   "cell_type": "code",
   "execution_count": 7,
   "metadata": {},
   "outputs": [
    {
     "data": {
      "text/plain": [
       "[2, 4, 5, 7, 11, 2, 2, 2]"
      ]
     },
     "execution_count": 7,
     "metadata": {},
     "output_type": "execute_result"
    }
   ],
   "source": [
    "max_0 = a_list[0]\n",
    "[element if element > max_0 else max_0 for element in a_list]"
   ]
  },
  {
   "cell_type": "code",
   "execution_count": null,
   "metadata": {
    "collapsed": true
   },
   "outputs": [],
   "source": [
    "#That is not what we want2"
   ]
  },
  {
   "cell_type": "code",
   "execution_count": 9,
   "metadata": {},
   "outputs": [
    {
     "ename": "SyntaxError",
     "evalue": "invalid syntax (<ipython-input-9-58c0e3c09798>, line 2)",
     "output_type": "error",
     "traceback": [
      "\u001b[1;36m  File \u001b[1;32m\"<ipython-input-9-58c0e3c09798>\"\u001b[1;36m, line \u001b[1;32m2\u001b[0m\n\u001b[1;33m    [max_0 = element if element > max_0 = max_0 else max_0 for element in a_list]\u001b[0m\n\u001b[1;37m           ^\u001b[0m\n\u001b[1;31mSyntaxError\u001b[0m\u001b[1;31m:\u001b[0m invalid syntax\n"
     ]
    }
   ],
   "source": [
    "max_0 = a_list[0]\n",
    "[max_0 = element if element > max_0 = max_0 else max_0 for element in a_list]"
   ]
  },
  {
   "cell_type": "code",
   "execution_count": 10,
   "metadata": {
    "collapsed": true
   },
   "outputs": [],
   "source": [
    "# Hmmmmm... We cannot implement this problem with a comprehension.\n",
    "#The reason is that comprehension methods are construction methods. List construction, set constuction, dictionary construction..."
   ]
  },
  {
   "cell_type": "markdown",
   "metadata": {},
   "source": [
    "## Finding the \"k\" which is the desired number of eigenvalues for a certain compression loss(e.g. %95) when implementing the PCA on a raw data."
   ]
  },
  {
   "cell_type": "code",
   "execution_count": 2,
   "metadata": {},
   "outputs": [
    {
     "name": "stdout",
     "output_type": "stream",
     "text": [
      "6\n"
     ]
    }
   ],
   "source": [
    "eig_list = [32, 30,25, 3, 2.8, 2.1, 1.73, 1.71, 0.68, 0.33, 0.11, 0.02]\n",
    "for k in range(len(eig_list)):\n",
    "    ratio = sum(eig_list[0:k+1])/ sum(eig_list)\n",
    "    if  ratio >= 0.95:\n",
    "        break\n",
    "print(k+1)"
   ]
  },
  {
   "cell_type": "code",
   "execution_count": 9,
   "metadata": {},
   "outputs": [
    {
     "name": "stdout",
     "output_type": "stream",
     "text": [
      "6\n"
     ]
    }
   ],
   "source": [
    "for i,component in enumerate(eig_list):\n",
    "    ratio = sum(eig_list[0:i+1])/ sum(eig_list)\n",
    "    if  ratio >= 0.95:\n",
    "        break\n",
    "print(k+1)"
   ]
  },
  {
   "cell_type": "code",
   "execution_count": 14,
   "metadata": {},
   "outputs": [
    {
     "name": "stdout",
     "output_type": "stream",
     "text": [
      "6\n"
     ]
    }
   ],
   "source": [
    "for i,component in enumerate(eig_list):\n",
    "    ratio = sum(eig_list[0:i+1])/ sum(eig_list)\n",
    "    if  ratio >= 0.95:\n",
    "        break\n",
    "print(eig_list.index(component)+1)"
   ]
  },
  {
   "cell_type": "code",
   "execution_count": 3,
   "metadata": {},
   "outputs": [
    {
     "data": {
      "text/plain": [
       "[]"
      ]
     },
     "execution_count": 3,
     "metadata": {},
     "output_type": "execute_result"
    }
   ],
   "source": [
    "eig_list = [32, 30,25, 3, 2.8, 2.1, 1.73, 1.71, 0.68, 0.33, 0.11, 0.02]\n",
    "eig_list[0:0]"
   ]
  },
  {
   "cell_type": "code",
   "execution_count": 4,
   "metadata": {},
   "outputs": [
    {
     "data": {
      "text/plain": [
       "0.9328508242862887"
      ]
     },
     "execution_count": 4,
     "metadata": {},
     "output_type": "execute_result"
    }
   ],
   "source": [
    "eig_list = [32, 30,25, 3, 2.8, 2.1, 1.73, 1.71, 0.68, 0.33, 0.11, 0.02]\n",
    "sum(eig_list[0:5])/sum(eig_list)"
   ]
  },
  {
   "cell_type": "code",
   "execution_count": 5,
   "metadata": {},
   "outputs": [
    {
     "data": {
      "text/plain": [
       "(12, 1.0)"
      ]
     },
     "execution_count": 5,
     "metadata": {},
     "output_type": "execute_result"
    }
   ],
   "source": [
    "len(eig_list), sum(eig_list[0:13])/sum(eig_list)"
   ]
  },
  {
   "cell_type": "code",
   "execution_count": 6,
   "metadata": {},
   "outputs": [
    {
     "data": {
      "text/plain": [
       "array([ 0.3216727 ,  0.62324085,  0.87454765,  0.90470446,  0.93285082,\n",
       "        0.9539606 ,  0.97135103,  0.98854041,  0.99537595,  0.9986932 ,\n",
       "        0.99979895,  1.        ])"
      ]
     },
     "execution_count": 6,
     "metadata": {},
     "output_type": "execute_result"
    }
   ],
   "source": [
    "# Numpy implementation\n",
    "normalized_cumsum = np.cumsum(eig_list)/ sum(eig_list)\n",
    "normalized_cumsum"
   ]
  },
  {
   "cell_type": "code",
   "execution_count": 8,
   "metadata": {},
   "outputs": [
    {
     "data": {
      "text/plain": [
       "array([ 0.3216727 ,  0.62324085,  0.87454765,  0.90470446,  0.93285082])"
      ]
     },
     "execution_count": 8,
     "metadata": {},
     "output_type": "execute_result"
    }
   ],
   "source": [
    "normalized_cumsum[(normalized_cumsum <= 0.95)]"
   ]
  },
  {
   "cell_type": "code",
   "execution_count": 62,
   "metadata": {},
   "outputs": [
    {
     "data": {
      "text/plain": [
       "6"
      ]
     },
     "execution_count": 62,
     "metadata": {},
     "output_type": "execute_result"
    }
   ],
   "source": [
    "# That was like a MATLAB way\n",
    "len(normalized_cumsum[(normalized_cumsum <= 0.95)])+1"
   ]
  },
  {
   "cell_type": "code",
   "execution_count": 63,
   "metadata": {},
   "outputs": [
    {
     "data": {
      "text/plain": [
       "6"
      ]
     },
     "execution_count": 63,
     "metadata": {},
     "output_type": "execute_result"
    }
   ],
   "source": [
    "# That was like a MATLAB way\n",
    "len(normalized_cumsum[normalized_cumsum <= 0.95])+1"
   ]
  },
  {
   "cell_type": "code",
   "execution_count": 60,
   "metadata": {},
   "outputs": [
    {
     "ename": "AttributeError",
     "evalue": "'numpy.ndarray' object has no attribute 'index'",
     "output_type": "error",
     "traceback": [
      "\u001b[1;31m---------------------------------------------------------------------------\u001b[0m",
      "\u001b[1;31mAttributeError\u001b[0m                            Traceback (most recent call last)",
      "\u001b[1;32m<ipython-input-60-d701e1828123>\u001b[0m in \u001b[0;36m<module>\u001b[1;34m()\u001b[0m\n\u001b[1;32m----> 1\u001b[1;33m \u001b[0mnormalized_cumsum\u001b[0m\u001b[1;33m[\u001b[0m\u001b[1;33m(\u001b[0m\u001b[0mnormalized_cumsum\u001b[0m \u001b[1;33m<=\u001b[0m \u001b[1;36m0.95\u001b[0m\u001b[1;33m)\u001b[0m\u001b[1;33m]\u001b[0m\u001b[1;33m.\u001b[0m\u001b[0mindex\u001b[0m\u001b[1;33m\u001b[0m\u001b[0m\n\u001b[0m",
      "\u001b[1;31mAttributeError\u001b[0m: 'numpy.ndarray' object has no attribute 'index'"
     ]
    }
   ],
   "source": [
    "normalized_cumsum[(normalized_cumsum <= 0.95)].index"
   ]
  },
  {
   "cell_type": "code",
   "execution_count": 70,
   "metadata": {},
   "outputs": [
    {
     "data": {
      "text/plain": [
       "(array([0, 1, 2, 3, 4], dtype=int64),)"
      ]
     },
     "execution_count": 70,
     "metadata": {},
     "output_type": "execute_result"
    }
   ],
   "source": [
    "np.where(normalized_cumsum <= 0.95)"
   ]
  },
  {
   "cell_type": "code",
   "execution_count": 71,
   "metadata": {},
   "outputs": [
    {
     "data": {
      "text/plain": [
       "1"
      ]
     },
     "execution_count": 71,
     "metadata": {},
     "output_type": "execute_result"
    }
   ],
   "source": [
    "len(np.where(normalized_cumsum <= 0.95))"
   ]
  },
  {
   "cell_type": "code",
   "execution_count": null,
   "metadata": {
    "collapsed": true
   },
   "outputs": [],
   "source": [
    "# Something must be odd(abnormal, strange)."
   ]
  },
  {
   "cell_type": "code",
   "execution_count": 72,
   "metadata": {},
   "outputs": [
    {
     "data": {
      "text/plain": [
       "tuple"
      ]
     },
     "execution_count": 72,
     "metadata": {},
     "output_type": "execute_result"
    }
   ],
   "source": [
    "type(np.where(normalized_cumsum <= 0.95))"
   ]
  },
  {
   "cell_type": "code",
   "execution_count": 92,
   "metadata": {
    "collapsed": true
   },
   "outputs": [],
   "source": [
    "# Yeah! output type was a tuple!"
   ]
  },
  {
   "cell_type": "code",
   "execution_count": 93,
   "metadata": {},
   "outputs": [
    {
     "data": {
      "text/plain": [
       "array([0, 1, 2, 3, 4], dtype=int64)"
      ]
     },
     "execution_count": 93,
     "metadata": {},
     "output_type": "execute_result"
    }
   ],
   "source": [
    "np.where(normalized_cumsum <= 0.95)[0]"
   ]
  },
  {
   "cell_type": "code",
   "execution_count": 75,
   "metadata": {},
   "outputs": [
    {
     "data": {
      "text/plain": [
       "5"
      ]
     },
     "execution_count": 75,
     "metadata": {},
     "output_type": "execute_result"
    }
   ],
   "source": [
    "len(np.where(normalized_cumsum <= 0.95)[0])"
   ]
  },
  {
   "cell_type": "code",
   "execution_count": 76,
   "metadata": {},
   "outputs": [
    {
     "data": {
      "text/plain": [
       "6"
      ]
     },
     "execution_count": 76,
     "metadata": {},
     "output_type": "execute_result"
    }
   ],
   "source": [
    "# The answer is:\n",
    "len(np.where(normalized_cumsum <= 0.95)[0]) + 1"
   ]
  },
  {
   "cell_type": "code",
   "execution_count": 17,
   "metadata": {},
   "outputs": [
    {
     "data": {
      "text/plain": [
       "6"
      ]
     },
     "execution_count": 17,
     "metadata": {},
     "output_type": "execute_result"
    }
   ],
   "source": [
    "(np.where(normalized_cumsum <= 0.95)[0]).max() + 2"
   ]
  },
  {
   "cell_type": "markdown",
   "metadata": {},
   "source": [
    "## Multiplication of elements in a given list"
   ]
  },
  {
   "cell_type": "code",
   "execution_count": 81,
   "metadata": {},
   "outputs": [
    {
     "data": {
      "text/plain": [
       "40320"
      ]
     },
     "execution_count": 81,
     "metadata": {},
     "output_type": "execute_result"
    }
   ],
   "source": [
    "g_list = [2,3,4,5,6,7,8,10]\n",
    "prod = 1\n",
    "for item in g_list:\n",
    "    prod = prod*item\n",
    "prod"
   ]
  },
  {
   "cell_type": "code",
   "execution_count": 80,
   "metadata": {},
   "outputs": [
    {
     "data": {
      "text/plain": [
       "120"
      ]
     },
     "execution_count": 80,
     "metadata": {},
     "output_type": "execute_result"
    }
   ],
   "source": [
    "g_list = [2,3,4,5,6,7,8,10]\n",
    "prod = 1\n",
    "for item in g_list[:4]:\n",
    "    prod = prod*item\n",
    "prod"
   ]
  },
  {
   "cell_type": "code",
   "execution_count": 83,
   "metadata": {},
   "outputs": [
    {
     "data": {
      "text/plain": [
       "[2, 6, 24, 120, 720, 5040, 40320]"
      ]
     },
     "execution_count": 83,
     "metadata": {},
     "output_type": "execute_result"
    }
   ],
   "source": [
    "g_list = [2,3,4,5,6,7,8,10]\n",
    "cumprod_list = []\n",
    "prod = 1\n",
    "for item in g_list:\n",
    "    prod = prod*item\n",
    "    cumprod_list.append(prod)\n",
    "cumprod_list"
   ]
  },
  {
   "cell_type": "code",
   "execution_count": 87,
   "metadata": {},
   "outputs": [
    {
     "data": {
      "text/plain": [
       "[2, 6, 24, 120, 720, 5040, 40320]"
      ]
     },
     "execution_count": 87,
     "metadata": {},
     "output_type": "execute_result"
    }
   ],
   "source": [
    "g_list = [2,3,4,5,6,7,8,10]\n",
    "cumprod_list = [0]*len(g_list)\n",
    "prod = 1\n",
    "for i in range(len(g_list)):\n",
    "    prod = prod*g_list[i]\n",
    "    cumprod_list[i] = prod\n",
    "cumprod_list"
   ]
  },
  {
   "cell_type": "code",
   "execution_count": 88,
   "metadata": {},
   "outputs": [
    {
     "data": {
      "text/plain": [
       "array([  2.00000000e+00,   6.00000000e+00,   2.40000000e+01,\n",
       "         1.20000000e+02,   7.20000000e+02,   5.04000000e+03,\n",
       "         4.03200000e+04])"
      ]
     },
     "execution_count": 88,
     "metadata": {},
     "output_type": "execute_result"
    }
   ],
   "source": [
    "g_list = [2,3,4,5,6,7,8,10]\n",
    "cumprod_list = np.zeros(len(g_list))\n",
    "prod = 1\n",
    "for i in range(len(g_list)):\n",
    "    prod = prod*g_list[i]\n",
    "    cumprod_list[i] = prod\n",
    "cumprod_list"
   ]
  },
  {
   "cell_type": "code",
   "execution_count": 90,
   "metadata": {},
   "outputs": [
    {
     "data": {
      "text/plain": [
       "[2, 6, 24, 120, 720, 5040, 40320]"
      ]
     },
     "execution_count": 90,
     "metadata": {},
     "output_type": "execute_result"
    }
   ],
   "source": [
    "g_list = [2,3,4,5,6,7,8]\n",
    "cumprod_list = [0]*len(g_list)\n",
    "prod = 1\n",
    "for i, element in enumerate(g_list):\n",
    "    prod = prod*element\n",
    "    cumprod_list[i] = prod\n",
    "cumprod_list"
   ]
  },
  {
   "cell_type": "code",
   "execution_count": null,
   "metadata": {
    "collapsed": true
   },
   "outputs": [],
   "source": [
    "# Let's write factorial function"
   ]
  },
  {
   "cell_type": "code",
   "execution_count": 102,
   "metadata": {
    "collapsed": true
   },
   "outputs": [],
   "source": [
    "def factorial(n):\n",
    "    if n == 0:\n",
    "        return 1\n",
    "    else:\n",
    "        N = 1\n",
    "        for i in range(1, n+1):\n",
    "            N = N*i\n",
    "    return(N)"
   ]
  },
  {
   "cell_type": "code",
   "execution_count": 103,
   "metadata": {},
   "outputs": [
    {
     "data": {
      "text/plain": [
       "15511210043330985984000000"
      ]
     },
     "execution_count": 103,
     "metadata": {},
     "output_type": "execute_result"
    }
   ],
   "source": [
    "benim_faktöryelim = factorial(25)\n",
    "benim_faktöryelim"
   ]
  },
  {
   "cell_type": "code",
   "execution_count": 104,
   "metadata": {},
   "outputs": [
    {
     "data": {
      "text/plain": [
       "1124000727777607680000"
      ]
     },
     "execution_count": 104,
     "metadata": {},
     "output_type": "execute_result"
    }
   ],
   "source": [
    "def factorial(n):\n",
    "    if n == 0:\n",
    "        return 1\n",
    "    else:\n",
    "        N = 1\n",
    "        for i in range(2, n+1): # one step shorter, hihi\n",
    "            N = N*i\n",
    "    return(N)\n",
    "seninki = factorial(22)\n",
    "seninki"
   ]
  },
  {
   "cell_type": "markdown",
   "metadata": {
    "collapsed": true
   },
   "source": [
    "## Flatten the matrix"
   ]
  },
  {
   "cell_type": "code",
   "execution_count": 119,
   "metadata": {},
   "outputs": [
    {
     "ename": "AttributeError",
     "evalue": "'list' object has no attribute 'shape'",
     "output_type": "error",
     "traceback": [
      "\u001b[1;31m---------------------------------------------------------------------------\u001b[0m",
      "\u001b[1;31mAttributeError\u001b[0m                            Traceback (most recent call last)",
      "\u001b[1;32m<ipython-input-119-ecc89fe847dc>\u001b[0m in \u001b[0;36m<module>\u001b[1;34m()\u001b[0m\n\u001b[0;32m      1\u001b[0m \u001b[0mmam\u001b[0m \u001b[1;33m=\u001b[0m \u001b[0mnp\u001b[0m\u001b[1;33m.\u001b[0m\u001b[0mones\u001b[0m\u001b[1;33m(\u001b[0m\u001b[1;33m(\u001b[0m\u001b[1;36m28\u001b[0m\u001b[1;33m,\u001b[0m\u001b[1;36m28\u001b[0m\u001b[1;33m)\u001b[0m\u001b[1;33m)\u001b[0m\u001b[1;33m\u001b[0m\u001b[0m\n\u001b[0;32m      2\u001b[0m \u001b[0mtt\u001b[0m \u001b[1;33m=\u001b[0m \u001b[1;33m[\u001b[0m\u001b[0melements\u001b[0m \u001b[1;32mfor\u001b[0m \u001b[0mrows\u001b[0m \u001b[1;32min\u001b[0m \u001b[0mmam\u001b[0m \u001b[1;32mfor\u001b[0m \u001b[0melements\u001b[0m \u001b[1;32min\u001b[0m \u001b[0mrows\u001b[0m\u001b[1;33m]\u001b[0m\u001b[1;33m\u001b[0m\u001b[0m\n\u001b[1;32m----> 3\u001b[1;33m \u001b[0mtt\u001b[0m\u001b[1;33m.\u001b[0m\u001b[0mshape\u001b[0m\u001b[1;33m\u001b[0m\u001b[0m\n\u001b[0m",
      "\u001b[1;31mAttributeError\u001b[0m: 'list' object has no attribute 'shape'"
     ]
    }
   ],
   "source": [
    "mam = np.ones((28,28))\n",
    "tt = [elements for rows in mam for elements in rows]\n",
    "tt.shape"
   ]
  },
  {
   "cell_type": "code",
   "execution_count": 120,
   "metadata": {},
   "outputs": [
    {
     "data": {
      "text/plain": [
       "(784,)"
      ]
     },
     "execution_count": 120,
     "metadata": {},
     "output_type": "execute_result"
    }
   ],
   "source": [
    "mam = np.ones((28,28))\n",
    "tt = np.array([elements for rows in mam for elements in rows])\n",
    "tt.shape"
   ]
  },
  {
   "cell_type": "code",
   "execution_count": 121,
   "metadata": {},
   "outputs": [
    {
     "data": {
      "text/plain": [
       "(784,)"
      ]
     },
     "execution_count": 121,
     "metadata": {},
     "output_type": "execute_result"
    }
   ],
   "source": [
    "mam = np.ones((28,28))\n",
    "tt = np.asarray([elements for rows in mam for elements in rows])\n",
    "tt.shape"
   ]
  },
  {
   "cell_type": "code",
   "execution_count": 149,
   "metadata": {},
   "outputs": [
    {
     "data": {
      "text/plain": [
       "array([[[ 1.,  1.,  1.]],\n",
       "\n",
       "       [[ 1.,  1.,  1.]],\n",
       "\n",
       "       [[ 1.,  1.,  1.]],\n",
       "\n",
       "       [[ 1.,  1.,  1.]]])"
      ]
     },
     "execution_count": 149,
     "metadata": {},
     "output_type": "execute_result"
    }
   ],
   "source": [
    "# Turn it into a function\n",
    "def matrixflatter(M):\n",
    "    M_flat = np.array([elements for rows in M for elements in rows])\n",
    "    return M_flat\n",
    "Z = np.matrix(np.ones((4,3)))\n",
    "k = matrixflatter(Z)\n",
    "k"
   ]
  },
  {
   "cell_type": "code",
   "execution_count": 145,
   "metadata": {},
   "outputs": [
    {
     "data": {
      "text/plain": [
       "matrix([[ 1.,  1.,  1.],\n",
       "        [ 1.,  1.,  1.],\n",
       "        [ 1.,  1.,  1.],\n",
       "        [ 1.,  1.,  1.]])"
      ]
     },
     "execution_count": 145,
     "metadata": {},
     "output_type": "execute_result"
    }
   ],
   "source": [
    "# Somethings got wrong. Let's check our function step by step(piece by piece)\n",
    "Z"
   ]
  },
  {
   "cell_type": "code",
   "execution_count": 146,
   "metadata": {},
   "outputs": [
    {
     "data": {
      "text/plain": [
       "[matrix([[ 1.,  1.,  1.]]),\n",
       " matrix([[ 1.,  1.,  1.]]),\n",
       " matrix([[ 1.,  1.,  1.]]),\n",
       " matrix([[ 1.,  1.,  1.]])]"
      ]
     },
     "execution_count": 146,
     "metadata": {},
     "output_type": "execute_result"
    }
   ],
   "source": [
    "[rows for rows in Z]"
   ]
  },
  {
   "cell_type": "code",
   "execution_count": 148,
   "metadata": {},
   "outputs": [
    {
     "data": {
      "text/plain": [
       "[matrix([[ 1.,  1.,  1.]]),\n",
       " matrix([[ 1.,  1.,  1.]]),\n",
       " matrix([[ 1.,  1.,  1.]]),\n",
       " matrix([[ 1.,  1.,  1.]])]"
      ]
     },
     "execution_count": 148,
     "metadata": {},
     "output_type": "execute_result"
    }
   ],
   "source": [
    "[elements for rows in Z for elements in rows]"
   ]
  },
  {
   "cell_type": "code",
   "execution_count": 150,
   "metadata": {},
   "outputs": [
    {
     "data": {
      "text/plain": [
       "array([[[ 1.,  1.,  1.]],\n",
       "\n",
       "       [[ 1.,  1.,  1.]],\n",
       "\n",
       "       [[ 1.,  1.,  1.]],\n",
       "\n",
       "       [[ 1.,  1.,  1.]]])"
      ]
     },
     "execution_count": 150,
     "metadata": {},
     "output_type": "execute_result"
    }
   ],
   "source": [
    "# It is very strange.\n",
    "np.array([elements for rows in Z for elements in rows])"
   ]
  },
  {
   "cell_type": "code",
   "execution_count": 151,
   "metadata": {},
   "outputs": [
    {
     "data": {
      "text/plain": [
       "[1.0, 1.0, 1.0, 1.0, 1.0, 1.0, 1.0, 1.0, 1.0, 1.0, 1.0, 1.0]"
      ]
     },
     "execution_count": 151,
     "metadata": {},
     "output_type": "execute_result"
    }
   ],
   "source": [
    "# I don't know the np.matrix structure. Let's transform it into an array\n",
    "[elements for rows in np.array(Z) for elements in rows]"
   ]
  },
  {
   "cell_type": "code",
   "execution_count": 156,
   "metadata": {},
   "outputs": [
    {
     "data": {
      "text/plain": [
       "array([ 1.,  1.,  1.,  1.,  1.,  1.,  1.,  1.,  1.,  1.,  1.,  1.])"
      ]
     },
     "execution_count": 156,
     "metadata": {},
     "output_type": "execute_result"
    }
   ],
   "source": [
    "# Done! our new function:\n",
    "def matrixflatter2(M):\n",
    "    M_flattened = np.array([elements for rows in np.array(M) for elements in rows])\n",
    "    return M_flattened\n",
    "matrixflatter2(Z)"
   ]
  },
  {
   "cell_type": "code",
   "execution_count": 131,
   "metadata": {},
   "outputs": [
    {
     "data": {
      "text/plain": [
       "array([ 1.,  1.,  1.,  1.,  1.,  1.,  1.,  1.,  1.,  1.,  1.,  1.])"
      ]
     },
     "execution_count": 131,
     "metadata": {},
     "output_type": "execute_result"
    }
   ],
   "source": [
    "# With pythonic methods\n",
    "def matrixreshaper(u):\n",
    "    u_reshape = np.array(u).flatten()\n",
    "    return u_reshape\n",
    "matrixreshaper(Z)"
   ]
  },
  {
   "cell_type": "code",
   "execution_count": 125,
   "metadata": {},
   "outputs": [
    {
     "data": {
      "text/plain": [
       "matrix([[ 1.,  1.,  1.],\n",
       "        [ 1.,  1.,  1.],\n",
       "        [ 1.,  1.,  1.]])"
      ]
     },
     "execution_count": 125,
     "metadata": {},
     "output_type": "execute_result"
    }
   ],
   "source": [
    "# What is the difference between array() and asarray()???\n",
    "A = np.matrix(np.ones((3,3)))\n",
    "np.array(A)[2]=2\n",
    "A"
   ]
  },
  {
   "cell_type": "code",
   "execution_count": 127,
   "metadata": {},
   "outputs": [
    {
     "data": {
      "text/plain": [
       "matrix([[ 1.,  1.,  1.],\n",
       "        [ 1.,  1.,  1.],\n",
       "        [ 2.,  2.,  2.]])"
      ]
     },
     "execution_count": 127,
     "metadata": {},
     "output_type": "execute_result"
    }
   ],
   "source": [
    "# A-ha, it couldn't modify the matrix.\n",
    "#Stackoverflow explanation: Doesn't work because you are modifying a copy.\n",
    "np.asarray(A)[2]=2\n",
    "A"
   ]
  },
  {
   "cell_type": "code",
   "execution_count": 129,
   "metadata": {},
   "outputs": [
    {
     "data": {
      "text/plain": [
       "array([ 1.,  1.,  1.,  1.,  1.,  1.,  2.,  2.,  2.])"
      ]
     },
     "execution_count": 129,
     "metadata": {},
     "output_type": "execute_result"
    }
   ],
   "source": [
    "# Done!\n",
    "A_reshaped = np.array(A).flatten()\n",
    "A_reshaped"
   ]
  },
  {
   "cell_type": "markdown",
   "metadata": {
    "collapsed": true
   },
   "source": [
    "## Fibonacci"
   ]
  },
  {
   "cell_type": "code",
   "execution_count": 23,
   "metadata": {},
   "outputs": [
    {
     "name": "stdout",
     "output_type": "stream",
     "text": [
      "4\n"
     ]
    }
   ],
   "source": [
    "n = 3\n",
    "a = 0\n",
    "b = 1\n",
    "for i in range(n):\n",
    "    \n",
    "    b = b + a\n",
    "    a = b\n",
    "print (b)\n"
   ]
  },
  {
   "cell_type": "code",
   "execution_count": 29,
   "metadata": {},
   "outputs": [
    {
     "name": "stdout",
     "output_type": "stream",
     "text": [
      "[0, 1, 1, 2, 3, 5, 8, 13, 21, 34, 55, 89, 144, 233, 377, 610, 987, 1597, 2584, 4181, 6765, 10946]\n"
     ]
    }
   ],
   "source": [
    "n = 20\n",
    "a = 0\n",
    "b = 1\n",
    "c = 0\n",
    "fib_list = []\n",
    "fib_list.append(a)\n",
    "fib_list.append(b)\n",
    "for i in range(n):\n",
    "    c = b + a\n",
    "    a = b\n",
    "    b = c\n",
    "    fib_list.append(c)\n",
    "print(fib_list)\n"
   ]
  },
  {
   "cell_type": "code",
   "execution_count": 20,
   "metadata": {},
   "outputs": [
    {
     "name": "stdout",
     "output_type": "stream",
     "text": [
      "0\n",
      "1\n",
      "2\n"
     ]
    }
   ],
   "source": [
    "n = 3\n",
    "a = 0\n",
    "b = 1\n",
    "for i in range(n):\n",
    "    print (a)\n",
    "    a = b\n",
    "    b = b + a\n"
   ]
  }
 ],
 "metadata": {
  "kernelspec": {
   "display_name": "Python 3",
   "language": "python",
   "name": "python3"
  },
  "language_info": {
   "codemirror_mode": {
    "name": "ipython",
    "version": 3
   },
   "file_extension": ".py",
   "mimetype": "text/x-python",
   "name": "python",
   "nbconvert_exporter": "python",
   "pygments_lexer": "ipython3",
   "version": "3.6.3"
  }
 },
 "nbformat": 4,
 "nbformat_minor": 2
}
